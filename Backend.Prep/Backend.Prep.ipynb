{
 "cells": [
  {
   "cell_type": "markdown",
   "metadata": {},
   "source": [
    "### Model Binding\n",
    "Model binding is the process by which ASP.NET Core `extracts data` from an HTTP request (e.g., route data, query strings, headers, or request bodies) and maps it to action method parameters or complex types.\n",
    "- `[FromQuery]` - Gets values from the `query string`.\n",
    "- `[FromRoute]` - Gets values from `route data`.\n",
    "- `[FromForm]` - Gets values from posted `form fields`.\n",
    "- `[FromBody]` - Gets values from the `request body`.\n",
    "- `[FromHeader]` - Gets values from `HTTP headers`.\n",
    "- [FromServices] - allow injecting dependencies directly into controller actions.\n",
    "\n",
    "```c#\n",
    "[HttpGet]\n",
    "public IActionResult GetServiceData([FromServices] IMyService service)\n",
    "{\n",
    "    return Ok(service.GetData());\n",
    "}\n",
    "```"
   ]
  }
 ],
 "metadata": {
  "language_info": {
   "name": "python"
  }
 },
 "nbformat": 4,
 "nbformat_minor": 2
}
